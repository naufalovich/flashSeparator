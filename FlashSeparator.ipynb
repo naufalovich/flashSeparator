{
 "cells": [
  {
   "cell_type": "code",
   "execution_count": 1,
   "id": "logical-worse",
   "metadata": {},
   "outputs": [],
   "source": [
    "# import necessary library\n",
    "import numpy as np\n",
    "from phasepy import component, mixture, preos\n",
    "from phasepy.equilibrium import flash"
   ]
  },
  {
   "cell_type": "code",
   "execution_count": 2,
   "id": "guilty-sterling",
   "metadata": {},
   "outputs": [],
   "source": [
    "# given data\n",
    "F = 1000 # molar flow. kmol/h\n",
    "T = 87. + 273.15  # vessel temperature, converted to K\n",
    "P = 1.01 # vessel pressure, bar\n",
    "Z = np.array([0.75, 0.25]) # overall molar fraction component"
   ]
  },
  {
   "cell_type": "code",
   "execution_count": 3,
   "id": "leading-master",
   "metadata": {},
   "outputs": [],
   "source": [
    "# define component thermodynamical properties\n",
    "benzene = component(name='benzene', Tc=562.2, Pc=48.98, Zc=0.271, Vc=259.0,\n",
    "                        w=0.210,\n",
    "                        Ant=[13.7819, 2726.81, 217.572],\n",
    "                        GC={'CH=C':6})\n",
    "\n",
    "toluene = component(name='toluene', Tc=591.8, Pc=41.06, Zc=0.264, Vc=316,\n",
    "                      w=0.262,\n",
    "                      Ant=[13.9320, 3056.96, -217.625],\n",
    "                      GC={'CH=C':6, 'CH3':1})"
   ]
  },
  {
   "cell_type": "code",
   "execution_count": 4,
   "id": "paperback-worry",
   "metadata": {},
   "outputs": [],
   "source": [
    "# setting up eos\n",
    "mix = mixture(benzene, toluene) #mix given component\n",
    "mix.unifac() # using dortmund modified unifac mixing rule\n",
    "eos = preos(mix, 'mhv_unifac') # peng robinson equation of state"
   ]
  },
  {
   "cell_type": "code",
   "execution_count": 5,
   "id": "civilian-leonard",
   "metadata": {},
   "outputs": [],
   "source": [
    "# initial guess\n",
    "x0 = np.array([0.4, 0.6]) # liquid molar fraction to guess\n",
    "y0 = np.array([0.2, 0.8]) # vapor molar fraction to guess"
   ]
  },
  {
   "cell_type": "code",
   "execution_count": 6,
   "id": "encouraging-creation",
   "metadata": {},
   "outputs": [],
   "source": [
    "# start calculation\n",
    "sep = flash(x0, y0, 'VL', Z, T, P, eos) # solver for flash calculation"
   ]
  },
  {
   "cell_type": "code",
   "execution_count": 7,
   "id": "aging-clearance",
   "metadata": {},
   "outputs": [
    {
     "data": {
      "text/plain": [
       "(array([0.81063167, 0.18936833]),\n",
       " array([0.64528823, 0.35471177]),\n",
       " 0.3667014050359152)"
      ]
     },
     "execution_count": 7,
     "metadata": {},
     "output_type": "execute_result"
    }
   ],
   "source": [
    "sep"
   ]
  },
  {
   "cell_type": "code",
   "execution_count": 8,
   "id": "collectible-shame",
   "metadata": {},
   "outputs": [],
   "source": [
    "y1 = (sep[0])[0] # benzene vapor fraction, indexing from tuple\n",
    "y2 = (sep[0])[1] # toluene vapor fraction, indexing from tuple\n",
    "x1 = (sep[1])[0] # benzene liquid fraction, indexing from tuple\n",
    "x2 = (sep[1])[1] # benzene liquid fraction, indexing from tuple"
   ]
  },
  {
   "cell_type": "code",
   "execution_count": 9,
   "id": "operational-blade",
   "metadata": {},
   "outputs": [
    {
     "data": {
      "text/plain": [
       "(0.8106316699864328,\n",
       " 0.18936833001356734,\n",
       " 0.6452882348270927,\n",
       " 0.35471176517290726)"
      ]
     },
     "execution_count": 9,
     "metadata": {},
     "output_type": "execute_result"
    }
   ],
   "source": [
    "y1, y2, x1, x2"
   ]
  },
  {
   "cell_type": "code",
   "execution_count": 10,
   "id": "perfect-burns",
   "metadata": {},
   "outputs": [],
   "source": [
    "# compute vapor flow and liquid flow using matrix\n",
    "import scipy.linalg # import new library\n",
    "A = np.array ([[y1, x1],[y2, x2]])\n",
    "B = np.array ([F*Z[0], F*Z[1]])"
   ]
  },
  {
   "cell_type": "code",
   "execution_count": 11,
   "id": "informed-tattoo",
   "metadata": {},
   "outputs": [
    {
     "name": "stdout",
     "output_type": "stream",
     "text": [
      "[[0.81063167 0.64528823]\n",
      " [0.18936833 0.35471177]]\n",
      "[750. 250.]\n"
     ]
    }
   ],
   "source": [
    "print (A)\n",
    "print (B)"
   ]
  },
  {
   "cell_type": "code",
   "execution_count": 12,
   "id": "missing-straight",
   "metadata": {},
   "outputs": [],
   "source": [
    "# now solve the matrix\n",
    "C = scipy.linalg.solve(A,B) # solver for linear algebra"
   ]
  },
  {
   "cell_type": "code",
   "execution_count": 13,
   "id": "provincial-basket",
   "metadata": {},
   "outputs": [
    {
     "name": "stdout",
     "output_type": "stream",
     "text": [
      "[633.29859496 366.70140504]\n"
     ]
    }
   ],
   "source": [
    "print (C)"
   ]
  },
  {
   "cell_type": "code",
   "execution_count": 14,
   "id": "opposed-colleague",
   "metadata": {},
   "outputs": [
    {
     "name": "stdout",
     "output_type": "stream",
     "text": [
      "----------------------------------------------------\n",
      "Vapor Flow (V) : 633.2985949638551 kmol/h\n",
      "     benzene fraction in vapor (y1) : 0.8106316699864328\n",
      "     toluene fraction in vapor (y2) : 0.18936833001356734\n",
      "----------------------------------------------------\n",
      "Liquid Flow (L) : 366.70140503614493 kmol/h\n",
      "     benzene fraction in liquid (x1) : 0.6452882348270927\n",
      "     toluene fraction in liquid (x2) : 0.35471176517290726\n"
     ]
    }
   ],
   "source": [
    "# print all solution\n",
    "print (\"----------------------------------------------------\")\n",
    "print (\"Vapor Flow (V) :\", C[0], \"kmol/h\")\n",
    "print (\"     benzene fraction in vapor (y1) :\", y1)\n",
    "print (\"     toluene fraction in vapor (y2) :\", y2)\n",
    "print (\"----------------------------------------------------\")\n",
    "print (\"Liquid Flow (L) :\", C[1], \"kmol/h\")\n",
    "print (\"     benzene fraction in liquid (x1) :\", x1)\n",
    "print (\"     toluene fraction in liquid (x2) :\", x2)"
   ]
  },
  {
   "cell_type": "code",
   "execution_count": null,
   "id": "intellectual-declaration",
   "metadata": {},
   "outputs": [],
   "source": []
  }
 ],
 "metadata": {
  "kernelspec": {
   "display_name": "Python 3",
   "language": "python",
   "name": "python3"
  },
  "language_info": {
   "codemirror_mode": {
    "name": "ipython",
    "version": 3
   },
   "file_extension": ".py",
   "mimetype": "text/x-python",
   "name": "python",
   "nbconvert_exporter": "python",
   "pygments_lexer": "ipython3",
   "version": "3.8.3"
  }
 },
 "nbformat": 4,
 "nbformat_minor": 5
}
